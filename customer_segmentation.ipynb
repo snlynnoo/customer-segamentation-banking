{
  "cells": [
    {
      "cell_type": "markdown",
      "metadata": {
        "id": "view-in-github",
        "colab_type": "text"
      },
      "source": [
        "<a href=\"https://colab.research.google.com/github/snlynnoo/customer-segamentation-banking/blob/main/Copy_of_customer_segmentation.ipynb\" target=\"_parent\"><img src=\"https://colab.research.google.com/assets/colab-badge.svg\" alt=\"Open In Colab\"/></a>"
      ]
    },
    {
      "cell_type": "markdown",
      "metadata": {
        "id": "BucReD2OKtCf"
      },
      "source": [
        "## Customer Segmentaion "
      ]
    },
    {
      "cell_type": "code",
      "execution_count": 1,
      "metadata": {
        "colab": {
          "base_uri": "https://localhost:8080/"
        },
        "id": "qH36F8HY8CPN",
        "outputId": "21619d4b-9268-4b21-9681-cca68804d9d5"
      },
      "outputs": [
        {
          "output_type": "stream",
          "name": "stdout",
          "text": [
            "Mounted at /content/drive\n"
          ]
        }
      ],
      "source": [
        "# Mount google drive\n",
        "from google.colab import drive\n",
        "drive.mount('/content/drive')"
      ]
    },
    {
      "cell_type": "code",
      "execution_count": 15,
      "metadata": {
        "id": "Ms1D3F7DFaz4"
      },
      "outputs": [],
      "source": [
        "# import libraries\n",
        "import pandas as pd\n",
        "import numpy as np\n",
        "import seaborn as sns\n",
        "import matplotlib.pyplot as plt\n",
        "import missingno as msno\n",
        "import sklearn\n",
        "import warnings\n",
        "\n",
        "# Set max row and col for pandas\n",
        "pd.set_option('display.max_columns', None)\n",
        "pd.set_option('display.max_row', 100)\n",
        "\n",
        "# Supress warnings\n",
        "warnings.filterwarnings('ignore')"
      ]
    },
    {
      "cell_type": "code",
      "execution_count": null,
      "metadata": {
        "id": "W9iFuAKKOOkT"
      },
      "outputs": [],
      "source": []
    },
    {
      "cell_type": "code",
      "execution_count": 16,
      "metadata": {
        "id": "ggamA-cSOO2s"
      },
      "outputs": [],
      "source": [
        "# Set max row and col for pandas dataframe\n",
        "pd.set_option('display.max_columns', None)\n",
        "pd.set_option('display.max_rows', 200)\n",
        "\n",
        "# Supress warnings\n",
        "import warnings\n",
        "warnings.filterwarnings('ignore')"
      ]
    },
    {
      "cell_type": "code",
      "execution_count": 34,
      "metadata": {
        "colab": {
          "base_uri": "https://localhost:8080/"
        },
        "id": "E778SrkUE-U5",
        "outputId": "b2fe3d3a-5d42-41a1-f813-05441281b683"
      },
      "outputs": [
        {
          "output_type": "execute_result",
          "data": {
            "text/plain": [
              "(1048567, 9)"
            ]
          },
          "metadata": {},
          "execution_count": 34
        }
      ],
      "source": [
        "df = pd.read_csv('/content/drive/MyDrive/bank_transactions.csv')\n",
        "df.shape"
      ]
    },
    {
      "cell_type": "code",
      "execution_count": null,
      "metadata": {
        "id": "_Laj6mxYIgm7"
      },
      "outputs": [],
      "source": []
    },
    {
      "cell_type": "markdown",
      "metadata": {
        "id": "ywxobUctKpCw"
      },
      "source": [
        "### Data Preprocessing"
      ]
    },
    {
      "cell_type": "code",
      "execution_count": 18,
      "metadata": {
        "colab": {
          "base_uri": "https://localhost:8080/"
        },
        "id": "_Bw9aQfTKm4N",
        "outputId": "34c8f98c-6b5f-49f0-d4c6-fc7be323864d"
      },
      "outputs": [
        {
          "output_type": "stream",
          "name": "stdout",
          "text": [
            "<class 'pandas.core.frame.DataFrame'>\n",
            "RangeIndex: 1048567 entries, 0 to 1048566\n",
            "Data columns (total 9 columns):\n",
            " #   Column                   Non-Null Count    Dtype  \n",
            "---  ------                   --------------    -----  \n",
            " 0   TransactionID            1048567 non-null  object \n",
            " 1   CustomerID               1048567 non-null  object \n",
            " 2   CustomerDOB              1045170 non-null  object \n",
            " 3   CustGender               1047467 non-null  object \n",
            " 4   CustLocation             1048416 non-null  object \n",
            " 5   CustAccountBalance       1046198 non-null  float64\n",
            " 6   TransactionDate          1048567 non-null  object \n",
            " 7   TransactionTime          1048567 non-null  int64  \n",
            " 8   TransactionAmount (INR)  1048567 non-null  float64\n",
            "dtypes: float64(2), int64(1), object(6)\n",
            "memory usage: 72.0+ MB\n"
          ]
        }
      ],
      "source": [
        "# Data info\n",
        "df.info()"
      ]
    },
    {
      "cell_type": "code",
      "execution_count": 7,
      "metadata": {
        "id": "WmTaPR8fNrAv"
      },
      "outputs": [],
      "source": [
        "# Custom Function to generate descriptive statics\n",
        "def describe_custom(df):\n",
        "    desc = df.describe()\n",
        "    skewness = df.skew()\n",
        "    median = df.median()\n",
        "    mode = df.mode()\n",
        "    desc.loc['skewness'] = skewness\n",
        "    desc.loc['median'] = median\n",
        "    desc.loc['mode'] = mode.iloc[0]\n",
        "    return desc"
      ]
    },
    {
      "cell_type": "code",
      "execution_count": 19,
      "metadata": {
        "colab": {
          "base_uri": "https://localhost:8080/",
          "height": 142
        },
        "id": "UL-K8PDWN4QV",
        "outputId": "7e717640-a264-47a7-934b-ae033f4c4f17"
      },
      "outputs": [
        {
          "output_type": "execute_result",
          "data": {
            "text/plain": [
              "                             count           mean            std  min  \\\n",
              "CustAccountBalance       1046198.0  115403.540056  846485.380601  0.0   \n",
              "TransactionTime          1048567.0  157087.529393   51261.854022  0.0   \n",
              "TransactionAmount (INR)  1048567.0    1574.335003    6574.742978  0.0   \n",
              "\n",
              "                               25%        50%        75%           max  \\\n",
              "CustAccountBalance         4721.76   16792.18   57657.36  1.150355e+08   \n",
              "TransactionTime          124030.00  164226.00  200010.00  2.359590e+05   \n",
              "TransactionAmount (INR)     161.00     459.03    1200.00  1.560035e+06   \n",
              "\n",
              "                          skewness     median      mode  \n",
              "CustAccountBalance       60.530334   16792.18       0.0  \n",
              "TransactionTime          -0.836924  164226.00  193303.0  \n",
              "TransactionAmount (INR)  47.337252     459.03     100.0  "
            ],
            "text/html": [
              "\n",
              "  <div id=\"df-1188129c-608f-46f6-bb4b-fc5fbb8bcc75\">\n",
              "    <div class=\"colab-df-container\">\n",
              "      <div>\n",
              "<style scoped>\n",
              "    .dataframe tbody tr th:only-of-type {\n",
              "        vertical-align: middle;\n",
              "    }\n",
              "\n",
              "    .dataframe tbody tr th {\n",
              "        vertical-align: top;\n",
              "    }\n",
              "\n",
              "    .dataframe thead th {\n",
              "        text-align: right;\n",
              "    }\n",
              "</style>\n",
              "<table border=\"1\" class=\"dataframe\">\n",
              "  <thead>\n",
              "    <tr style=\"text-align: right;\">\n",
              "      <th></th>\n",
              "      <th>count</th>\n",
              "      <th>mean</th>\n",
              "      <th>std</th>\n",
              "      <th>min</th>\n",
              "      <th>25%</th>\n",
              "      <th>50%</th>\n",
              "      <th>75%</th>\n",
              "      <th>max</th>\n",
              "      <th>skewness</th>\n",
              "      <th>median</th>\n",
              "      <th>mode</th>\n",
              "    </tr>\n",
              "  </thead>\n",
              "  <tbody>\n",
              "    <tr>\n",
              "      <th>CustAccountBalance</th>\n",
              "      <td>1046198.0</td>\n",
              "      <td>115403.540056</td>\n",
              "      <td>846485.380601</td>\n",
              "      <td>0.0</td>\n",
              "      <td>4721.76</td>\n",
              "      <td>16792.18</td>\n",
              "      <td>57657.36</td>\n",
              "      <td>1.150355e+08</td>\n",
              "      <td>60.530334</td>\n",
              "      <td>16792.18</td>\n",
              "      <td>0.0</td>\n",
              "    </tr>\n",
              "    <tr>\n",
              "      <th>TransactionTime</th>\n",
              "      <td>1048567.0</td>\n",
              "      <td>157087.529393</td>\n",
              "      <td>51261.854022</td>\n",
              "      <td>0.0</td>\n",
              "      <td>124030.00</td>\n",
              "      <td>164226.00</td>\n",
              "      <td>200010.00</td>\n",
              "      <td>2.359590e+05</td>\n",
              "      <td>-0.836924</td>\n",
              "      <td>164226.00</td>\n",
              "      <td>193303.0</td>\n",
              "    </tr>\n",
              "    <tr>\n",
              "      <th>TransactionAmount (INR)</th>\n",
              "      <td>1048567.0</td>\n",
              "      <td>1574.335003</td>\n",
              "      <td>6574.742978</td>\n",
              "      <td>0.0</td>\n",
              "      <td>161.00</td>\n",
              "      <td>459.03</td>\n",
              "      <td>1200.00</td>\n",
              "      <td>1.560035e+06</td>\n",
              "      <td>47.337252</td>\n",
              "      <td>459.03</td>\n",
              "      <td>100.0</td>\n",
              "    </tr>\n",
              "  </tbody>\n",
              "</table>\n",
              "</div>\n",
              "      <button class=\"colab-df-convert\" onclick=\"convertToInteractive('df-1188129c-608f-46f6-bb4b-fc5fbb8bcc75')\"\n",
              "              title=\"Convert this dataframe to an interactive table.\"\n",
              "              style=\"display:none;\">\n",
              "        \n",
              "  <svg xmlns=\"http://www.w3.org/2000/svg\" height=\"24px\"viewBox=\"0 0 24 24\"\n",
              "       width=\"24px\">\n",
              "    <path d=\"M0 0h24v24H0V0z\" fill=\"none\"/>\n",
              "    <path d=\"M18.56 5.44l.94 2.06.94-2.06 2.06-.94-2.06-.94-.94-2.06-.94 2.06-2.06.94zm-11 1L8.5 8.5l.94-2.06 2.06-.94-2.06-.94L8.5 2.5l-.94 2.06-2.06.94zm10 10l.94 2.06.94-2.06 2.06-.94-2.06-.94-.94-2.06-.94 2.06-2.06.94z\"/><path d=\"M17.41 7.96l-1.37-1.37c-.4-.4-.92-.59-1.43-.59-.52 0-1.04.2-1.43.59L10.3 9.45l-7.72 7.72c-.78.78-.78 2.05 0 2.83L4 21.41c.39.39.9.59 1.41.59.51 0 1.02-.2 1.41-.59l7.78-7.78 2.81-2.81c.8-.78.8-2.07 0-2.86zM5.41 20L4 18.59l7.72-7.72 1.47 1.35L5.41 20z\"/>\n",
              "  </svg>\n",
              "      </button>\n",
              "      \n",
              "  <style>\n",
              "    .colab-df-container {\n",
              "      display:flex;\n",
              "      flex-wrap:wrap;\n",
              "      gap: 12px;\n",
              "    }\n",
              "\n",
              "    .colab-df-convert {\n",
              "      background-color: #E8F0FE;\n",
              "      border: none;\n",
              "      border-radius: 50%;\n",
              "      cursor: pointer;\n",
              "      display: none;\n",
              "      fill: #1967D2;\n",
              "      height: 32px;\n",
              "      padding: 0 0 0 0;\n",
              "      width: 32px;\n",
              "    }\n",
              "\n",
              "    .colab-df-convert:hover {\n",
              "      background-color: #E2EBFA;\n",
              "      box-shadow: 0px 1px 2px rgba(60, 64, 67, 0.3), 0px 1px 3px 1px rgba(60, 64, 67, 0.15);\n",
              "      fill: #174EA6;\n",
              "    }\n",
              "\n",
              "    [theme=dark] .colab-df-convert {\n",
              "      background-color: #3B4455;\n",
              "      fill: #D2E3FC;\n",
              "    }\n",
              "\n",
              "    [theme=dark] .colab-df-convert:hover {\n",
              "      background-color: #434B5C;\n",
              "      box-shadow: 0px 1px 3px 1px rgba(0, 0, 0, 0.15);\n",
              "      filter: drop-shadow(0px 1px 2px rgba(0, 0, 0, 0.3));\n",
              "      fill: #FFFFFF;\n",
              "    }\n",
              "  </style>\n",
              "\n",
              "      <script>\n",
              "        const buttonEl =\n",
              "          document.querySelector('#df-1188129c-608f-46f6-bb4b-fc5fbb8bcc75 button.colab-df-convert');\n",
              "        buttonEl.style.display =\n",
              "          google.colab.kernel.accessAllowed ? 'block' : 'none';\n",
              "\n",
              "        async function convertToInteractive(key) {\n",
              "          const element = document.querySelector('#df-1188129c-608f-46f6-bb4b-fc5fbb8bcc75');\n",
              "          const dataTable =\n",
              "            await google.colab.kernel.invokeFunction('convertToInteractive',\n",
              "                                                     [key], {});\n",
              "          if (!dataTable) return;\n",
              "\n",
              "          const docLinkHtml = 'Like what you see? Visit the ' +\n",
              "            '<a target=\"_blank\" href=https://colab.research.google.com/notebooks/data_table.ipynb>data table notebook</a>'\n",
              "            + ' to learn more about interactive tables.';\n",
              "          element.innerHTML = '';\n",
              "          dataTable['output_type'] = 'display_data';\n",
              "          await google.colab.output.renderOutput(dataTable, element);\n",
              "          const docLink = document.createElement('div');\n",
              "          docLink.innerHTML = docLinkHtml;\n",
              "          element.appendChild(docLink);\n",
              "        }\n",
              "      </script>\n",
              "    </div>\n",
              "  </div>\n",
              "  "
            ]
          },
          "metadata": {},
          "execution_count": 19
        }
      ],
      "source": [
        "describe_custom(df).T"
      ]
    },
    {
      "cell_type": "code",
      "execution_count": 20,
      "metadata": {
        "colab": {
          "base_uri": "https://localhost:8080/"
        },
        "id": "DlLLsyVKL2VL",
        "outputId": "059d28ef-8709-4ff2-94fc-92d70d43c0e6"
      },
      "outputs": [
        {
          "output_type": "execute_result",
          "data": {
            "text/plain": [
              "TransactionID                 0\n",
              "CustomerID                    0\n",
              "CustomerDOB                3397\n",
              "CustGender                 1100\n",
              "CustLocation                151\n",
              "CustAccountBalance         2369\n",
              "TransactionDate               0\n",
              "TransactionTime               0\n",
              "TransactionAmount (INR)       0\n",
              "dtype: int64"
            ]
          },
          "metadata": {},
          "execution_count": 20
        }
      ],
      "source": [
        "# Check missing values\n",
        "df.isnull().sum()"
      ]
    },
    {
      "cell_type": "code",
      "execution_count": 21,
      "metadata": {
        "colab": {
          "base_uri": "https://localhost:8080/",
          "height": 457
        },
        "id": "45FXa4WXLU9W",
        "outputId": "cd856930-05bf-4fcc-e47b-7ad5e9bb9e79"
      },
      "outputs": [
        {
          "output_type": "display_data",
          "data": {
            "text/plain": [
              "<Figure size 600x300 with 3 Axes>"
            ],
            "image/png": "[encoded data removed]"
          },
          "metadata": {}
        }
      ],
      "source": [
        "# Plot non-missing value %\n",
        "msno.bar(df, color = \"lightblue\", figsize = (6,3), fontsize = 8)\n",
        "plt.title(\"The amount of Non-missing values %\", fontsize = 12)\n",
        "plt.show()"
      ]
    },
    {
      "cell_type": "markdown",
      "source": [
        "⏭"
      ],
      "metadata": {
        "id": "pnpwKfNn6e1K"
      }
    },
    {
      "cell_type": "code",
      "source": [
        "# delete missing data\n",
        "df.dropna(inplace=True)"
      ],
      "metadata": {
        "id": "OYdFdyEUcIMX"
      },
      "execution_count": 35,
      "outputs": []
    },
    {
      "cell_type": "code",
      "source": [
        "df.shape"
      ],
      "metadata": {
        "colab": {
          "base_uri": "https://localhost:8080/"
        },
        "id": "3NbIQYrQfnl1",
        "outputId": "3ac66374-0b34-463c-f14c-fe9f10b51611"
      },
      "execution_count": 23,
      "outputs": [
        {
          "output_type": "execute_result",
          "data": {
            "text/plain": [
              "(1041614, 9)"
            ]
          },
          "metadata": {},
          "execution_count": 23
        }
      ]
    },
    {
      "cell_type": "code",
      "execution_count": 36,
      "metadata": {
        "colab": {
          "base_uri": "https://localhost:8080/"
        },
        "id": "1ljc2z2jNMda",
        "outputId": "94bd4d93-9597-4c23-c868-246c8980f87d"
      },
      "outputs": [
        {
          "output_type": "execute_result",
          "data": {
            "text/plain": [
              "TransactionID              0\n",
              "CustomerID                 0\n",
              "CustomerDOB                0\n",
              "CustGender                 0\n",
              "CustLocation               0\n",
              "CustAccountBalance         0\n",
              "TransactionDate            0\n",
              "TransactionTime            0\n",
              "TransactionAmount (INR)    0\n",
              "dtype: int64"
            ]
          },
          "metadata": {},
          "execution_count": 36
        }
      ],
      "source": [
        "#check for duplicates\n",
        "df[df.duplicated() == True ].count()"
      ]
    },
    {
      "cell_type": "markdown",
      "source": [
        "⏭"
      ],
      "metadata": {
        "id": "jcz6ZxsD6-3Y"
      }
    },
    {
      "cell_type": "code",
      "source": [
        "# convert type of columns TransactionDate,CustomerDOB from string to datetime\n",
        "df['TransactionDate'] = pd.to_datetime(data['TransactionDate'])\n",
        "df['CustomerDOB'] = pd.to_datetime(data['CustomerDOB'])"
      ],
      "metadata": {
        "id": "WamEyAZFcHB3"
      },
      "execution_count": 37,
      "outputs": []
    },
    {
      "cell_type": "code",
      "source": [
        "df['TransactionDate'].value_counts()"
      ],
      "metadata": {
        "colab": {
          "base_uri": "https://localhost:8080/"
        },
        "id": "M3cDbwWvkCdA",
        "outputId": "9e0ec3c9-6d8d-46f2-a3e5-4927a19eb081"
      },
      "execution_count": 45,
      "outputs": [
        {
          "output_type": "execute_result",
          "data": {
            "text/plain": [
              "2016-07-08    27084\n",
              "2016-08-13    26738\n",
              "2016-04-09    26420\n",
              "2016-06-08    26416\n",
              "2016-03-09    26292\n",
              "2016-10-09    25628\n",
              "2016-08-14    25407\n",
              "2016-11-09    25355\n",
              "2016-08-15    24020\n",
              "2016-08-21    22833\n",
              "2016-02-09    22718\n",
              "2016-12-08    22277\n",
              "2016-01-09    22179\n",
              "2016-11-08    21674\n",
              "2016-09-08    21673\n",
              "2016-08-09    21648\n",
              "2016-10-08    21457\n",
              "2016-09-09    21444\n",
              "2016-08-27    21349\n",
              "2016-08-20    21188\n",
              "2016-05-09    21116\n",
              "2016-07-09    20999\n",
              "2016-08-17    20960\n",
              "2016-05-08    20949\n",
              "2016-08-28    20944\n",
              "2016-08-08    20883\n",
              "2016-02-08    20787\n",
              "2016-12-09    20611\n",
              "2016-04-08    20535\n",
              "2016-09-13    20506\n",
              "2016-03-08    20446\n",
              "2016-08-16    20278\n",
              "2016-01-08    20277\n",
              "2016-09-14    19845\n",
              "2016-09-15    19610\n",
              "2016-08-31    19586\n",
              "2016-06-09    19510\n",
              "2016-08-18    19338\n",
              "2016-08-19    18559\n",
              "2016-08-22    18441\n",
              "2016-08-25    18424\n",
              "2016-08-24    17893\n",
              "2016-08-26    17615\n",
              "2016-08-30    17273\n",
              "2016-08-23    17239\n",
              "2016-08-29    16700\n",
              "2016-09-18    14622\n",
              "2016-09-26    12376\n",
              "2016-09-25     8127\n",
              "2016-09-27     7401\n",
              "2016-09-22     6925\n",
              "2016-10-21     3641\n",
              "2016-09-23     3460\n",
              "2016-09-30     1935\n",
              "2016-10-16        3\n",
              "Name: TransactionDate, dtype: int64"
            ]
          },
          "metadata": {},
          "execution_count": 45
        }
      ]
    },
    {
      "cell_type": "markdown",
      "source": [
        "All the transactions took place in a roughly two month period from August to October"
      ],
      "metadata": {
        "id": "Om12afVRkZZY"
      }
    },
    {
      "cell_type": "code",
      "source": [
        "df['CustomerDOB'].value_counts()"
      ],
      "metadata": {
        "colab": {
          "base_uri": "https://localhost:8080/"
        },
        "id": "5SoG27p7kTWn",
        "outputId": "692df068-09c7-4531-9b42-3f98f69147d2"
      },
      "execution_count": 46,
      "outputs": [
        {
          "output_type": "execute_result",
          "data": {
            "text/plain": [
              "1800-01-01    56292\n",
              "1989-01-01      809\n",
              "1990-01-01      784\n",
              "1991-06-08      698\n",
              "1991-01-01      665\n",
              "              ...  \n",
              "2051-02-12        1\n",
              "2052-03-20        1\n",
              "2047-09-26        1\n",
              "2041-04-10        1\n",
              "2044-10-24        1\n",
              "Name: CustomerDOB, Length: 17233, dtype: int64"
            ]
          },
          "metadata": {},
          "execution_count": 46
        }
      ]
    },
    {
      "cell_type": "code",
      "source": [
        "filtered_df = df.loc[df['CustomerDOB'].dt.year >= 2006]\n",
        "filtered_df['CustomerDOB'].value_counts()"
      ],
      "metadata": {
        "colab": {
          "base_uri": "https://localhost:8080/"
        },
        "id": "Q8JNDdjjmQcn",
        "outputId": "bb390c36-b408-4d40-9fd8-838634c6c007"
      },
      "execution_count": 53,
      "outputs": [
        {
          "output_type": "execute_result",
          "data": {
            "text/plain": [
              "2054-12-28    214\n",
              "2069-01-01    180\n",
              "2071-01-06    170\n",
              "2070-01-12    150\n",
              "2072-01-11    140\n",
              "             ... \n",
              "2061-04-29      1\n",
              "2043-03-12      1\n",
              "2053-07-30      1\n",
              "2012-02-18      1\n",
              "2044-10-24      1\n",
              "Name: CustomerDOB, Length: 7603, dtype: int64"
            ]
          },
          "metadata": {},
          "execution_count": 53
        }
      ]
    },
    {
      "cell_type": "markdown",
      "source": [
        "There are exceptionally high number of customers with DOB as 1800-01-01 as compared to the rest, this is probably the default value. A customer being born in 1800 would mean he/she will be 216 years old in 2016, which doesnt make sense, hence these data will be deleted.\n",
        "\n",
        "Also, any DOB later than 2006 will be removed since in India, the legal age to have a bank account is 10yo. "
      ],
      "metadata": {
        "id": "NtSVJbIvkiyS"
      }
    },
    {
      "cell_type": "markdown",
      "source": [
        "⏭"
      ],
      "metadata": {
        "id": "hGFKbgcl7G9V"
      }
    },
    {
      "cell_type": "code",
      "source": [
        "# Remove data for DOB = 1800-01-01 and DOB >2006\n",
        "df = df.loc[~(df['CustomerDOB'] == '1800-01-01')]\n",
        "df = df.loc[~(df['CustomerDOB'].dt.year >= 2006)]"
      ],
      "metadata": {
        "id": "sg9yZqAAkVwm"
      },
      "execution_count": 54,
      "outputs": []
    },
    {
      "cell_type": "code",
      "source": [
        "df.shape"
      ],
      "metadata": {
        "colab": {
          "base_uri": "https://localhost:8080/"
        },
        "id": "12Apdy_LlspJ",
        "outputId": "b550c1c4-4129-44f9-f858-efeca9aab692"
      },
      "execution_count": 56,
      "outputs": [
        {
          "output_type": "execute_result",
          "data": {
            "text/plain": [
              "(901140, 10)"
            ]
          },
          "metadata": {},
          "execution_count": 56
        }
      ]
    },
    {
      "cell_type": "markdown",
      "source": [
        "⏭"
      ],
      "metadata": {
        "id": "kmavDvem7I0Y"
      }
    },
    {
      "cell_type": "code",
      "source": [
        "#Calculate customer age:\n",
        "df['CustomerAge'] =df['TransactionDate'].dt.year - df['CustomerDOB'].dt.year"
      ],
      "metadata": {
        "id": "53nVI-gLfzk5"
      },
      "execution_count": 57,
      "outputs": []
    },
    {
      "cell_type": "code",
      "source": [
        "df.head()"
      ],
      "metadata": {
        "colab": {
          "base_uri": "https://localhost:8080/",
          "height": 285
        },
        "id": "QhAkpmEEf9YC",
        "outputId": "0f9175ee-c937-476e-adab-10f0305e1e6f"
      },
      "execution_count": 58,
      "outputs": [
        {
          "output_type": "execute_result",
          "data": {
            "text/plain": [
              "  TransactionID CustomerID CustomerDOB CustGender CustLocation  \\\n",
              "0            T1   C5841053  1994-10-01          F   JAMSHEDPUR   \n",
              "2            T3   C4417068  1996-11-26          F       MUMBAI   \n",
              "3            T4   C5342380  1973-09-14          F       MUMBAI   \n",
              "4            T5   C9031234  1988-03-24          F  NAVI MUMBAI   \n",
              "6            T7   C7126560  1992-01-26          F       MUMBAI   \n",
              "\n",
              "   CustAccountBalance TransactionDate  TransactionTime  \\\n",
              "0            17819.05      2016-02-08           143207   \n",
              "2            17874.44      2016-02-08           142712   \n",
              "3           866503.21      2016-02-08           142714   \n",
              "4             6714.43      2016-02-08           181156   \n",
              "6              973.46      2016-02-08           173806   \n",
              "\n",
              "   TransactionAmount (INR)  CustomerAge  \n",
              "0                     25.0           22  \n",
              "2                    459.0           20  \n",
              "3                   2060.0           43  \n",
              "4                   1762.5           28  \n",
              "6                    566.0           24  "
            ],
            "text/html": [
              "\n",
              "  <div id=\"df-d9004bd8-08fe-4b57-9ff9-8a4439a9e8a1\">\n",
              "    <div class=\"colab-df-container\">\n",
              "      <div>\n",
              "<style scoped>\n",
              "    .dataframe tbody tr th:only-of-type {\n",
              "        vertical-align: middle;\n",
              "    }\n",
              "\n",
              "    .dataframe tbody tr th {\n",
              "        vertical-align: top;\n",
              "    }\n",
              "\n",
              "    .dataframe thead th {\n",
              "        text-align: right;\n",
              "    }\n",
              "</style>\n",
              "<table border=\"1\" class=\"dataframe\">\n",
              "  <thead>\n",
              "    <tr style=\"text-align: right;\">\n",
              "      <th></th>\n",
              "      <th>TransactionID</th>\n",
              "      <th>CustomerID</th>\n",
              "      <th>CustomerDOB</th>\n",
              "      <th>CustGender</th>\n",
              "      <th>CustLocation</th>\n",
              "      <th>CustAccountBalance</th>\n",
              "      <th>TransactionDate</th>\n",
              "      <th>TransactionTime</th>\n",
              "      <th>TransactionAmount (INR)</th>\n",
              "      <th>CustomerAge</th>\n",
              "    </tr>\n",
              "  </thead>\n",
              "  <tbody>\n",
              "    <tr>\n",
              "      <th>0</th>\n",
              "      <td>T1</td>\n",
              "      <td>C5841053</td>\n",
              "      <td>1994-10-01</td>\n",
              "      <td>F</td>\n",
              "      <td>JAMSHEDPUR</td>\n",
              "      <td>17819.05</td>\n",
              "      <td>2016-02-08</td>\n",
              "      <td>143207</td>\n",
              "      <td>25.0</td>\n",
              "      <td>22</td>\n",
              "    </tr>\n",
              "    <tr>\n",
              "      <th>2</th>\n",
              "      <td>T3</td>\n",
              "      <td>C4417068</td>\n",
              "      <td>1996-11-26</td>\n",
              "      <td>F</td>\n",
              "      <td>MUMBAI</td>\n",
              "      <td>17874.44</td>\n",
              "      <td>2016-02-08</td>\n",
              "      <td>142712</td>\n",
              "      <td>459.0</td>\n",
              "      <td>20</td>\n",
              "    </tr>\n",
              "    <tr>\n",
              "      <th>3</th>\n",
              "      <td>T4</td>\n",
              "      <td>C5342380</td>\n",
              "      <td>1973-09-14</td>\n",
              "      <td>F</td>\n",
              "      <td>MUMBAI</td>\n",
              "      <td>866503.21</td>\n",
              "      <td>2016-02-08</td>\n",
              "      <td>142714</td>\n",
              "      <td>2060.0</td>\n",
              "      <td>43</td>\n",
              "    </tr>\n",
              "    <tr>\n",
              "      <th>4</th>\n",
              "      <td>T5</td>\n",
              "      <td>C9031234</td>\n",
              "      <td>1988-03-24</td>\n",
              "      <td>F</td>\n",
              "      <td>NAVI MUMBAI</td>\n",
              "      <td>6714.43</td>\n",
              "      <td>2016-02-08</td>\n",
              "      <td>181156</td>\n",
              "      <td>1762.5</td>\n",
              "      <td>28</td>\n",
              "    </tr>\n",
              "    <tr>\n",
              "      <th>6</th>\n",
              "      <td>T7</td>\n",
              "      <td>C7126560</td>\n",
              "      <td>1992-01-26</td>\n",
              "      <td>F</td>\n",
              "      <td>MUMBAI</td>\n",
              "      <td>973.46</td>\n",
              "      <td>2016-02-08</td>\n",
              "      <td>173806</td>\n",
              "      <td>566.0</td>\n",
              "      <td>24</td>\n",
              "    </tr>\n",
              "  </tbody>\n",
              "</table>\n",
              "</div>\n",
              "      <button class=\"colab-df-convert\" onclick=\"convertToInteractive('df-d9004bd8-08fe-4b57-9ff9-8a4439a9e8a1')\"\n",
              "              title=\"Convert this dataframe to an interactive table.\"\n",
              "              style=\"display:none;\">\n",
              "        \n",
              "  <svg xmlns=\"http://www.w3.org/2000/svg\" height=\"24px\"viewBox=\"0 0 24 24\"\n",
              "       width=\"24px\">\n",
              "    <path d=\"M0 0h24v24H0V0z\" fill=\"none\"/>\n",
              "    <path d=\"M18.56 5.44l.94 2.06.94-2.06 2.06-.94-2.06-.94-.94-2.06-.94 2.06-2.06.94zm-11 1L8.5 8.5l.94-2.06 2.06-.94-2.06-.94L8.5 2.5l-.94 2.06-2.06.94zm10 10l.94 2.06.94-2.06 2.06-.94-2.06-.94-.94-2.06-.94 2.06-2.06.94z\"/><path d=\"M17.41 7.96l-1.37-1.37c-.4-.4-.92-.59-1.43-.59-.52 0-1.04.2-1.43.59L10.3 9.45l-7.72 7.72c-.78.78-.78 2.05 0 2.83L4 21.41c.39.39.9.59 1.41.59.51 0 1.02-.2 1.41-.59l7.78-7.78 2.81-2.81c.8-.78.8-2.07 0-2.86zM5.41 20L4 18.59l7.72-7.72 1.47 1.35L5.41 20z\"/>\n",
              "  </svg>\n",
              "      </button>\n",
              "      \n",
              "  <style>\n",
              "    .colab-df-container {\n",
              "      display:flex;\n",
              "      flex-wrap:wrap;\n",
              "      gap: 12px;\n",
              "    }\n",
              "\n",
              "    .colab-df-convert {\n",
              "      background-color: #E8F0FE;\n",
              "      border: none;\n",
              "      border-radius: 50%;\n",
              "      cursor: pointer;\n",
              "      display: none;\n",
              "      fill: #1967D2;\n",
              "      height: 32px;\n",
              "      padding: 0 0 0 0;\n",
              "      width: 32px;\n",
              "    }\n",
              "\n",
              "    .colab-df-convert:hover {\n",
              "      background-color: #E2EBFA;\n",
              "      box-shadow: 0px 1px 2px rgba(60, 64, 67, 0.3), 0px 1px 3px 1px rgba(60, 64, 67, 0.15);\n",
              "      fill: #174EA6;\n",
              "    }\n",
              "\n",
              "    [theme=dark] .colab-df-convert {\n",
              "      background-color: #3B4455;\n",
              "      fill: #D2E3FC;\n",
              "    }\n",
              "\n",
              "    [theme=dark] .colab-df-convert:hover {\n",
              "      background-color: #434B5C;\n",
              "      box-shadow: 0px 1px 3px 1px rgba(0, 0, 0, 0.15);\n",
              "      filter: drop-shadow(0px 1px 2px rgba(0, 0, 0, 0.3));\n",
              "      fill: #FFFFFF;\n",
              "    }\n",
              "  </style>\n",
              "\n",
              "      <script>\n",
              "        const buttonEl =\n",
              "          document.querySelector('#df-d9004bd8-08fe-4b57-9ff9-8a4439a9e8a1 button.colab-df-convert');\n",
              "        buttonEl.style.display =\n",
              "          google.colab.kernel.accessAllowed ? 'block' : 'none';\n",
              "\n",
              "        async function convertToInteractive(key) {\n",
              "          const element = document.querySelector('#df-d9004bd8-08fe-4b57-9ff9-8a4439a9e8a1');\n",
              "          const dataTable =\n",
              "            await google.colab.kernel.invokeFunction('convertToInteractive',\n",
              "                                                     [key], {});\n",
              "          if (!dataTable) return;\n",
              "\n",
              "          const docLinkHtml = 'Like what you see? Visit the ' +\n",
              "            '<a target=\"_blank\" href=https://colab.research.google.com/notebooks/data_table.ipynb>data table notebook</a>'\n",
              "            + ' to learn more about interactive tables.';\n",
              "          element.innerHTML = '';\n",
              "          dataTable['output_type'] = 'display_data';\n",
              "          await google.colab.output.renderOutput(dataTable, element);\n",
              "          const docLink = document.createElement('div');\n",
              "          docLink.innerHTML = docLinkHtml;\n",
              "          element.appendChild(docLink);\n",
              "        }\n",
              "      </script>\n",
              "    </div>\n",
              "  </div>\n",
              "  "
            ]
          },
          "metadata": {},
          "execution_count": 58
        }
      ]
    },
    {
      "cell_type": "code",
      "source": [
        "df['CustomerAge'].value_counts()"
      ],
      "metadata": {
        "colab": {
          "base_uri": "https://localhost:8080/"
        },
        "id": "UuVjvMKroeXE",
        "outputId": "dc183a66-b022-42cc-bc68-883a51507d70"
      },
      "execution_count": 59,
      "outputs": [
        {
          "output_type": "execute_result",
          "data": {
            "text/plain": [
              "26    72616\n",
              "25    71185\n",
              "27    69156\n",
              "24    66484\n",
              "28    62905\n",
              "29    58606\n",
              "23    53142\n",
              "30    52897\n",
              "31    46096\n",
              "32    41105\n",
              "22    36179\n",
              "33    35701\n",
              "34    32364\n",
              "35    27369\n",
              "36    25122\n",
              "37    22126\n",
              "21    20704\n",
              "38    19605\n",
              "39    16626\n",
              "40    15057\n",
              "20    12480\n",
              "41    12293\n",
              "42    10952\n",
              "43     9908\n",
              "19     7155\n",
              "18     1936\n",
              "17      688\n",
              "16      269\n",
              "15      142\n",
              "14       98\n",
              "12       75\n",
              "13       69\n",
              "11       30\n",
              "Name: CustomerAge, dtype: int64"
            ]
          },
          "metadata": {},
          "execution_count": 59
        }
      ]
    },
    {
      "cell_type": "code",
      "source": [
        "df.CustGender.value_counts()"
      ],
      "metadata": {
        "colab": {
          "base_uri": "https://localhost:8080/"
        },
        "id": "dHbxmlbSoke7",
        "outputId": "422c722e-e316-409a-9b85-ae472bdc6e5c"
      },
      "execution_count": 60,
      "outputs": [
        {
          "output_type": "execute_result",
          "data": {
            "text/plain": [
              "M    651768\n",
              "F    249372\n",
              "Name: CustGender, dtype: int64"
            ]
          },
          "metadata": {},
          "execution_count": 60
        }
      ]
    },
    {
      "cell_type": "markdown",
      "source": [
        "**Feature engineering - RFM Scores**\n",
        "\n",
        "\n",
        "\n",
        "\n",
        "*   Recency: Number of days since the last purchase or order\n",
        "*   Frequency: Number of transactions made\n",
        "*   Monetary: Total amount spent\n",
        "\n"
      ],
      "metadata": {
        "id": "S2DfOwOvo5qz"
      }
    },
    {
      "cell_type": "markdown",
      "source": [
        "⏭"
      ],
      "metadata": {
        "id": "RQE70UNT7Lbe"
      }
    },
    {
      "cell_type": "code",
      "source": [
        "df['TransactionDate1']=df['TransactionDate'] # ==> to calculate the minimum (first transaction)\n",
        "df['TransactionDate2']=df['TransactionDate'] # ==> to calculate the maximum (last transaction)"
      ],
      "metadata": {
        "id": "2Daw_ZPupEW8"
      },
      "execution_count": 61,
      "outputs": []
    },
    {
      "cell_type": "markdown",
      "source": [
        "⏭"
      ],
      "metadata": {
        "id": "Pi-3DKFX7Mfs"
      }
    },
    {
      "cell_type": "code",
      "source": [
        "RFM_df = df.groupby(\"CustomerID\").agg({\n",
        "                                        \"TransactionID\" : \"count\",\n",
        "                                        \"CustGender\" : \"first\",\n",
        "                                        \"CustLocation\":\"first\",\n",
        "                                        \"CustAccountBalance\"  : \"mean\",\n",
        "                                        \"TransactionAmount (INR)\" : \"sum\",\n",
        "                                        \"CustomerAge\" : \"median\",\n",
        "                                        \"TransactionDate2\":\"max\",\n",
        "                                        \"TransactionDate1\":\"min\",\n",
        "                                        \"TransactionDate\":\"median\"\n",
        "                        })\n"
      ],
      "metadata": {
        "id": "izE0cH3Rr4_k"
      },
      "execution_count": 62,
      "outputs": []
    },
    {
      "cell_type": "markdown",
      "source": [
        "⏭"
      ],
      "metadata": {
        "id": "qLhjifIP7O7F"
      }
    },
    {
      "cell_type": "code",
      "source": [
        "RFM_df = RFM_df.reset_index()"
      ],
      "metadata": {
        "colab": {
          "base_uri": "https://localhost:8080/"
        },
        "id": "NTHNc5G7tHSf",
        "outputId": "3de61727-8e67-4754-c22a-befc874cf6ad"
      },
      "execution_count": 65,
      "outputs": [
        {
          "output_type": "execute_result",
          "data": {
            "text/plain": [
              "(777356, 11)"
            ]
          },
          "metadata": {},
          "execution_count": 65
        }
      ]
    },
    {
      "cell_type": "code",
      "source": [
        "#confirm customer ID is unique\n",
        "RFM_df.CustomerID.value_counts()"
      ],
      "metadata": {
        "colab": {
          "base_uri": "https://localhost:8080/"
        },
        "id": "dVRj--7GtZ1n",
        "outputId": "7c9354f3-f624-4e5a-c211-88caeacdae33"
      },
      "execution_count": 66,
      "outputs": [
        {
          "output_type": "execute_result",
          "data": {
            "text/plain": [
              "C1010011    1\n",
              "C6412358    1\n",
              "C6412331    1\n",
              "C6412339    1\n",
              "C6412341    1\n",
              "           ..\n",
              "C3710944    1\n",
              "C3710946    1\n",
              "C3710948    1\n",
              "C3710951    1\n",
              "C9099956    1\n",
              "Name: CustomerID, Length: 777356, dtype: int64"
            ]
          },
          "metadata": {},
          "execution_count": 66
        }
      ]
    },
    {
      "cell_type": "markdown",
      "source": [
        "⏭"
      ],
      "metadata": {
        "id": "HKcRQBBd7S8M"
      }
    },
    {
      "cell_type": "code",
      "source": [
        "RFM_df['Recency']=RFM_df['TransactionDate2']-RFM_df['TransactionDate1']"
      ],
      "metadata": {
        "id": "BxbSMGEgtv5E"
      },
      "execution_count": 67,
      "outputs": []
    },
    {
      "cell_type": "code",
      "source": [
        "RFM_df.Recency.value_counts()"
      ],
      "metadata": {
        "colab": {
          "base_uri": "https://localhost:8080/"
        },
        "id": "86yU8wPUt1SS",
        "outputId": "f3c8d3ac-046a-4d81-b923-3a7896890ce8"
      },
      "execution_count": 68,
      "outputs": [
        {
          "output_type": "execute_result",
          "data": {
            "text/plain": [
              "0 days      669064\n",
              "1 days        2677\n",
              "31 days       2033\n",
              "30 days       1994\n",
              "61 days       1726\n",
              "             ...  \n",
              "287 days        15\n",
              "58 days         12\n",
              "265 days        10\n",
              "266 days         7\n",
              "206 days         5\n",
              "Name: Recency, Length: 252, dtype: int64"
            ]
          },
          "metadata": {},
          "execution_count": 68
        }
      ]
    },
    {
      "cell_type": "markdown",
      "source": [
        "⏭"
      ],
      "metadata": {
        "id": "uKaiEzB87VKq"
      }
    },
    {
      "cell_type": "code",
      "source": [
        "# Rename Columns\n",
        "RFM_df.rename(columns={\"TransactionID\":\"Frequency\"},inplace=True)\n",
        "RFM_df.rename(columns={\"TransactionAmount (INR)\":\"Monetary\"},inplace=True)"
      ],
      "metadata": {
        "id": "MDWmP2Gdtl-0"
      },
      "execution_count": 69,
      "outputs": []
    },
    {
      "cell_type": "code",
      "source": [
        "RFM_df.info()"
      ],
      "metadata": {
        "colab": {
          "base_uri": "https://localhost:8080/"
        },
        "id": "7helGjNoxJj9",
        "outputId": "546abc10-76fc-42c8-d19e-0531e0416bc6"
      },
      "execution_count": 76,
      "outputs": [
        {
          "output_type": "stream",
          "name": "stdout",
          "text": [
            "<class 'pandas.core.frame.DataFrame'>\n",
            "RangeIndex: 777356 entries, 0 to 777355\n",
            "Data columns (total 12 columns):\n",
            " #   Column              Non-Null Count   Dtype          \n",
            "---  ------              --------------   -----          \n",
            " 0   index               777356 non-null  int64          \n",
            " 1   CustomerID          777356 non-null  object         \n",
            " 2   Frequency           777356 non-null  int64          \n",
            " 3   CustGender          777356 non-null  object         \n",
            " 4   CustLocation        777356 non-null  object         \n",
            " 5   CustAccountBalance  777356 non-null  float64        \n",
            " 6   Monetary            777356 non-null  float64        \n",
            " 7   CustomerAge         777356 non-null  float64        \n",
            " 8   TransactionDate2    777356 non-null  datetime64[ns] \n",
            " 9   TransactionDate1    777356 non-null  datetime64[ns] \n",
            " 10  TransactionDate     777356 non-null  datetime64[ns] \n",
            " 11  Recency             777356 non-null  timedelta64[ns]\n",
            "dtypes: datetime64[ns](3), float64(3), int64(2), object(3), timedelta64[ns](1)\n",
            "memory usage: 71.2+ MB\n"
          ]
        }
      ]
    },
    {
      "cell_type": "code",
      "source": [],
      "metadata": {
        "id": "gFRB_lqa76z-"
      },
      "execution_count": null,
      "outputs": []
    },
    {
      "cell_type": "code",
      "source": [
        "#@title Exploratory Data Analysis\n",
        "EDA_df = RFM_df\n",
        "EDA_df.drop(columns=[\"CustomerID\",\"index\",\"TransactionDate2\",\"TransactionDate1\",\"TransactionDate\"],inplace=True)"
      ],
      "metadata": {
        "colab": {
          "base_uri": "https://localhost:8080/",
          "height": 358
        },
        "id": "t2gHpR-o7dt-",
        "outputId": "be224e25-3c25-4d9e-fe3f-ab73b2e824be"
      },
      "execution_count": 96,
      "outputs": [
        {
          "output_type": "error",
          "ename": "KeyError",
          "evalue": "ignored",
          "traceback": [
            "\u001b[0;31m---------------------------------------------------------------------------\u001b[0m",
            "\u001b[0;31mKeyError\u001b[0m                                  Traceback (most recent call last)",
            "\u001b[0;32m<ipython-input-96-6292b25356ee>\u001b[0m in \u001b[0;36m<cell line: 3>\u001b[0;34m()\u001b[0m\n\u001b[1;32m      1\u001b[0m \u001b[0;31m#@title Exploratory Data Analysis\u001b[0m\u001b[0;34m\u001b[0m\u001b[0;34m\u001b[0m\u001b[0m\n\u001b[1;32m      2\u001b[0m \u001b[0mEDA_df\u001b[0m \u001b[0;34m=\u001b[0m \u001b[0mRFM_df\u001b[0m\u001b[0;34m\u001b[0m\u001b[0;34m\u001b[0m\u001b[0m\n\u001b[0;32m----> 3\u001b[0;31m \u001b[0mEDA_df\u001b[0m\u001b[0;34m.\u001b[0m\u001b[0mdrop\u001b[0m\u001b[0;34m(\u001b[0m\u001b[0mcolumns\u001b[0m\u001b[0;34m=\u001b[0m\u001b[0;34m[\u001b[0m\u001b[0;34m\"CustomerID\"\u001b[0m\u001b[0;34m,\u001b[0m\u001b[0;34m\"index\"\u001b[0m\u001b[0;34m,\u001b[0m\u001b[0;34m\"TransactionDate2\"\u001b[0m\u001b[0;34m,\u001b[0m\u001b[0;34m\"TransactionDate1\"\u001b[0m\u001b[0;34m,\u001b[0m\u001b[0;34m\"TransactionDate\"\u001b[0m\u001b[0;34m]\u001b[0m\u001b[0;34m,\u001b[0m\u001b[0minplace\u001b[0m\u001b[0;34m=\u001b[0m\u001b[0;32mTrue\u001b[0m\u001b[0;34m)\u001b[0m\u001b[0;34m\u001b[0m\u001b[0;34m\u001b[0m\u001b[0m\n\u001b[0m\u001b[1;32m      4\u001b[0m \u001b[0mEDA_df\u001b[0m\u001b[0;34m.\u001b[0m\u001b[0minfo\u001b[0m\u001b[0;34m\u001b[0m\u001b[0;34m\u001b[0m\u001b[0m\n",
            "\u001b[0;32m/usr/local/lib/python3.10/dist-packages/pandas/util/_decorators.py\u001b[0m in \u001b[0;36mwrapper\u001b[0;34m(*args, **kwargs)\u001b[0m\n\u001b[1;32m    329\u001b[0m                     \u001b[0mstacklevel\u001b[0m\u001b[0;34m=\u001b[0m\u001b[0mfind_stack_level\u001b[0m\u001b[0;34m(\u001b[0m\u001b[0;34m)\u001b[0m\u001b[0;34m,\u001b[0m\u001b[0;34m\u001b[0m\u001b[0;34m\u001b[0m\u001b[0m\n\u001b[1;32m    330\u001b[0m                 )\n\u001b[0;32m--> 331\u001b[0;31m             \u001b[0;32mreturn\u001b[0m \u001b[0mfunc\u001b[0m\u001b[0;34m(\u001b[0m\u001b[0;34m*\u001b[0m\u001b[0margs\u001b[0m\u001b[0;34m,\u001b[0m \u001b[0;34m**\u001b[0m\u001b[0mkwargs\u001b[0m\u001b[0;34m)\u001b[0m\u001b[0;34m\u001b[0m\u001b[0;34m\u001b[0m\u001b[0m\n\u001b[0m\u001b[1;32m    332\u001b[0m \u001b[0;34m\u001b[0m\u001b[0m\n\u001b[1;32m    333\u001b[0m         \u001b[0;31m# error: \"Callable[[VarArg(Any), KwArg(Any)], Any]\" has no\u001b[0m\u001b[0;34m\u001b[0m\u001b[0;34m\u001b[0m\u001b[0m\n",
            "\u001b[0;32m/usr/local/lib/python3.10/dist-packages/pandas/core/frame.py\u001b[0m in \u001b[0;36mdrop\u001b[0;34m(self, labels, axis, index, columns, level, inplace, errors)\u001b[0m\n\u001b[1;32m   5397\u001b[0m                 \u001b[0mweight\u001b[0m  \u001b[0;36m1.0\u001b[0m     \u001b[0;36m0.8\u001b[0m\u001b[0;34m\u001b[0m\u001b[0;34m\u001b[0m\u001b[0m\n\u001b[1;32m   5398\u001b[0m         \"\"\"\n\u001b[0;32m-> 5399\u001b[0;31m         return super().drop(\n\u001b[0m\u001b[1;32m   5400\u001b[0m             \u001b[0mlabels\u001b[0m\u001b[0;34m=\u001b[0m\u001b[0mlabels\u001b[0m\u001b[0;34m,\u001b[0m\u001b[0;34m\u001b[0m\u001b[0;34m\u001b[0m\u001b[0m\n\u001b[1;32m   5401\u001b[0m             \u001b[0maxis\u001b[0m\u001b[0;34m=\u001b[0m\u001b[0maxis\u001b[0m\u001b[0;34m,\u001b[0m\u001b[0;34m\u001b[0m\u001b[0;34m\u001b[0m\u001b[0m\n",
            "\u001b[0;32m/usr/local/lib/python3.10/dist-packages/pandas/util/_decorators.py\u001b[0m in \u001b[0;36mwrapper\u001b[0;34m(*args, **kwargs)\u001b[0m\n\u001b[1;32m    329\u001b[0m                     \u001b[0mstacklevel\u001b[0m\u001b[0;34m=\u001b[0m\u001b[0mfind_stack_level\u001b[0m\u001b[0;34m(\u001b[0m\u001b[0;34m)\u001b[0m\u001b[0;34m,\u001b[0m\u001b[0;34m\u001b[0m\u001b[0;34m\u001b[0m\u001b[0m\n\u001b[1;32m    330\u001b[0m                 )\n\u001b[0;32m--> 331\u001b[0;31m             \u001b[0;32mreturn\u001b[0m \u001b[0mfunc\u001b[0m\u001b[0;34m(\u001b[0m\u001b[0;34m*\u001b[0m\u001b[0margs\u001b[0m\u001b[0;34m,\u001b[0m \u001b[0;34m**\u001b[0m\u001b[0mkwargs\u001b[0m\u001b[0;34m)\u001b[0m\u001b[0;34m\u001b[0m\u001b[0;34m\u001b[0m\u001b[0m\n\u001b[0m\u001b[1;32m    332\u001b[0m \u001b[0;34m\u001b[0m\u001b[0m\n\u001b[1;32m    333\u001b[0m         \u001b[0;31m# error: \"Callable[[VarArg(Any), KwArg(Any)], Any]\" has no\u001b[0m\u001b[0;34m\u001b[0m\u001b[0;34m\u001b[0m\u001b[0m\n",
            "\u001b[0;32m/usr/local/lib/python3.10/dist-packages/pandas/core/generic.py\u001b[0m in \u001b[0;36mdrop\u001b[0;34m(self, labels, axis, index, columns, level, inplace, errors)\u001b[0m\n\u001b[1;32m   4503\u001b[0m         \u001b[0;32mfor\u001b[0m \u001b[0maxis\u001b[0m\u001b[0;34m,\u001b[0m \u001b[0mlabels\u001b[0m \u001b[0;32min\u001b[0m \u001b[0maxes\u001b[0m\u001b[0;34m.\u001b[0m\u001b[0mitems\u001b[0m\u001b[0;34m(\u001b[0m\u001b[0;34m)\u001b[0m\u001b[0;34m:\u001b[0m\u001b[0;34m\u001b[0m\u001b[0;34m\u001b[0m\u001b[0m\n\u001b[1;32m   4504\u001b[0m             \u001b[0;32mif\u001b[0m \u001b[0mlabels\u001b[0m \u001b[0;32mis\u001b[0m \u001b[0;32mnot\u001b[0m \u001b[0;32mNone\u001b[0m\u001b[0;34m:\u001b[0m\u001b[0;34m\u001b[0m\u001b[0;34m\u001b[0m\u001b[0m\n\u001b[0;32m-> 4505\u001b[0;31m                 \u001b[0mobj\u001b[0m \u001b[0;34m=\u001b[0m \u001b[0mobj\u001b[0m\u001b[0;34m.\u001b[0m\u001b[0m_drop_axis\u001b[0m\u001b[0;34m(\u001b[0m\u001b[0mlabels\u001b[0m\u001b[0;34m,\u001b[0m \u001b[0maxis\u001b[0m\u001b[0;34m,\u001b[0m \u001b[0mlevel\u001b[0m\u001b[0;34m=\u001b[0m\u001b[0mlevel\u001b[0m\u001b[0;34m,\u001b[0m \u001b[0merrors\u001b[0m\u001b[0;34m=\u001b[0m\u001b[0merrors\u001b[0m\u001b[0;34m)\u001b[0m\u001b[0;34m\u001b[0m\u001b[0;34m\u001b[0m\u001b[0m\n\u001b[0m\u001b[1;32m   4506\u001b[0m \u001b[0;34m\u001b[0m\u001b[0m\n\u001b[1;32m   4507\u001b[0m         \u001b[0;32mif\u001b[0m \u001b[0minplace\u001b[0m\u001b[0;34m:\u001b[0m\u001b[0;34m\u001b[0m\u001b[0;34m\u001b[0m\u001b[0m\n",
            "\u001b[0;32m/usr/local/lib/python3.10/dist-packages/pandas/core/generic.py\u001b[0m in \u001b[0;36m_drop_axis\u001b[0;34m(self, labels, axis, level, errors, only_slice)\u001b[0m\n\u001b[1;32m   4544\u001b[0m                 \u001b[0mnew_axis\u001b[0m \u001b[0;34m=\u001b[0m \u001b[0maxis\u001b[0m\u001b[0;34m.\u001b[0m\u001b[0mdrop\u001b[0m\u001b[0;34m(\u001b[0m\u001b[0mlabels\u001b[0m\u001b[0;34m,\u001b[0m \u001b[0mlevel\u001b[0m\u001b[0;34m=\u001b[0m\u001b[0mlevel\u001b[0m\u001b[0;34m,\u001b[0m \u001b[0merrors\u001b[0m\u001b[0;34m=\u001b[0m\u001b[0merrors\u001b[0m\u001b[0;34m)\u001b[0m\u001b[0;34m\u001b[0m\u001b[0;34m\u001b[0m\u001b[0m\n\u001b[1;32m   4545\u001b[0m             \u001b[0;32melse\u001b[0m\u001b[0;34m:\u001b[0m\u001b[0;34m\u001b[0m\u001b[0;34m\u001b[0m\u001b[0m\n\u001b[0;32m-> 4546\u001b[0;31m                 \u001b[0mnew_axis\u001b[0m \u001b[0;34m=\u001b[0m \u001b[0maxis\u001b[0m\u001b[0;34m.\u001b[0m\u001b[0mdrop\u001b[0m\u001b[0;34m(\u001b[0m\u001b[0mlabels\u001b[0m\u001b[0;34m,\u001b[0m \u001b[0merrors\u001b[0m\u001b[0;34m=\u001b[0m\u001b[0merrors\u001b[0m\u001b[0;34m)\u001b[0m\u001b[0;34m\u001b[0m\u001b[0;34m\u001b[0m\u001b[0m\n\u001b[0m\u001b[1;32m   4547\u001b[0m             \u001b[0mindexer\u001b[0m \u001b[0;34m=\u001b[0m \u001b[0maxis\u001b[0m\u001b[0;34m.\u001b[0m\u001b[0mget_indexer\u001b[0m\u001b[0;34m(\u001b[0m\u001b[0mnew_axis\u001b[0m\u001b[0;34m)\u001b[0m\u001b[0;34m\u001b[0m\u001b[0;34m\u001b[0m\u001b[0m\n\u001b[1;32m   4548\u001b[0m \u001b[0;34m\u001b[0m\u001b[0m\n",
            "\u001b[0;32m/usr/local/lib/python3.10/dist-packages/pandas/core/indexes/base.py\u001b[0m in \u001b[0;36mdrop\u001b[0;34m(self, labels, errors)\u001b[0m\n\u001b[1;32m   6932\u001b[0m         \u001b[0;32mif\u001b[0m \u001b[0mmask\u001b[0m\u001b[0;34m.\u001b[0m\u001b[0many\u001b[0m\u001b[0;34m(\u001b[0m\u001b[0;34m)\u001b[0m\u001b[0;34m:\u001b[0m\u001b[0;34m\u001b[0m\u001b[0;34m\u001b[0m\u001b[0m\n\u001b[1;32m   6933\u001b[0m             \u001b[0;32mif\u001b[0m \u001b[0merrors\u001b[0m \u001b[0;34m!=\u001b[0m \u001b[0;34m\"ignore\"\u001b[0m\u001b[0;34m:\u001b[0m\u001b[0;34m\u001b[0m\u001b[0;34m\u001b[0m\u001b[0m\n\u001b[0;32m-> 6934\u001b[0;31m                 \u001b[0;32mraise\u001b[0m \u001b[0mKeyError\u001b[0m\u001b[0;34m(\u001b[0m\u001b[0;34mf\"{list(labels[mask])} not found in axis\"\u001b[0m\u001b[0;34m)\u001b[0m\u001b[0;34m\u001b[0m\u001b[0;34m\u001b[0m\u001b[0m\n\u001b[0m\u001b[1;32m   6935\u001b[0m             \u001b[0mindexer\u001b[0m \u001b[0;34m=\u001b[0m \u001b[0mindexer\u001b[0m\u001b[0;34m[\u001b[0m\u001b[0;34m~\u001b[0m\u001b[0mmask\u001b[0m\u001b[0;34m]\u001b[0m\u001b[0;34m\u001b[0m\u001b[0;34m\u001b[0m\u001b[0m\n\u001b[1;32m   6936\u001b[0m         \u001b[0;32mreturn\u001b[0m \u001b[0mself\u001b[0m\u001b[0;34m.\u001b[0m\u001b[0mdelete\u001b[0m\u001b[0;34m(\u001b[0m\u001b[0mindexer\u001b[0m\u001b[0;34m)\u001b[0m\u001b[0;34m\u001b[0m\u001b[0;34m\u001b[0m\u001b[0m\n",
            "\u001b[0;31mKeyError\u001b[0m: \"['CustomerID', 'index', 'TransactionDate2', 'TransactionDate1', 'TransactionDate'] not found in axis\""
          ]
        }
      ]
    },
    {
      "cell_type": "code",
      "source": [
        "EDA_df.info()"
      ],
      "metadata": {
        "colab": {
          "base_uri": "https://localhost:8080/"
        },
        "id": "m3rHNLLAP3Kk",
        "outputId": "0a18c5fb-8312-4c44-a6b7-cf083d50db0a"
      },
      "execution_count": 97,
      "outputs": [
        {
          "output_type": "stream",
          "name": "stdout",
          "text": [
            "<class 'pandas.core.frame.DataFrame'>\n",
            "RangeIndex: 777356 entries, 0 to 777355\n",
            "Data columns (total 7 columns):\n",
            " #   Column              Non-Null Count   Dtype          \n",
            "---  ------              --------------   -----          \n",
            " 0   Frequency           777356 non-null  int64          \n",
            " 1   CustGender          777356 non-null  object         \n",
            " 2   CustLocation        777356 non-null  object         \n",
            " 3   CustAccountBalance  777356 non-null  float64        \n",
            " 4   Monetary            777356 non-null  float64        \n",
            " 5   CustomerAge         777356 non-null  float64        \n",
            " 6   Recency             777356 non-null  timedelta64[ns]\n",
            "dtypes: float64(3), int64(1), object(2), timedelta64[ns](1)\n",
            "memory usage: 41.5+ MB\n"
          ]
        }
      ]
    },
    {
      "cell_type": "code",
      "source": [
        "EDA_df.CustLocation.value_counts()"
      ],
      "metadata": {
        "colab": {
          "base_uri": "https://localhost:8080/"
        },
        "id": "PcnARYS4Db76",
        "outputId": "b2b8cc07-79d0-4c1f-8f0a-e8300b7180cf"
      },
      "execution_count": 80,
      "outputs": [
        {
          "output_type": "execute_result",
          "data": {
            "text/plain": [
              "MUMBAI                          76971\n",
              "BANGALORE                       62418\n",
              "NEW DELHI                       58363\n",
              "GURGAON                         55893\n",
              "DELHI                           53224\n",
              "                                ...  \n",
              "THANI                               1\n",
              "TIRUMALGERRY SECUNDERADAD           1\n",
              "CHANDRASEKHARPUR BHUBANESWAR        1\n",
              "SCHOOL MOHANPUR                     1\n",
              "13 GORAKHPUR                        1\n",
              "Name: CustLocation, Length: 7407, dtype: int64"
            ]
          },
          "metadata": {},
          "execution_count": 80
        }
      ]
    },
    {
      "cell_type": "code",
      "source": [
        "plt.style.use(\"fivethirtyeight\")\n",
        "plt.figure(figsize=(7,7))\n",
        "chart=sns.countplot(y='CustLocation',data=EDA_df,palette='rocket', order = EDA_df['CustLocation'].value_counts()[:30].index)\n",
        "plt.title(\"Top 30 Location of Customer \",\n",
        "          fontsize='20',\n",
        "          backgroundcolor='AliceBlue',\n",
        "          color='blue');"
      ],
      "metadata": {
        "colab": {
          "base_uri": "https://localhost:8080/",
          "height": 686
        },
        "id": "lLbRS-S9GG51",
        "outputId": "211e3f9c-c95f-4fe6-8a33-08e36e63c42e"
      },
      "execution_count": 94,
      "outputs": [
        {
          "output_type": "display_data",
          "data": {
            "text/plain": [
              "<Figure size 700x700 with 1 Axes>"
            ],
            "image/png": "[encoded data removed]"
          },
          "metadata": {}
        }
      ]
    },
    {
      "cell_type": "code",
      "source": [
        "plt.figure(figsize=(7,5))\n",
        "correlation=EDA_df.corr()\n",
        "sns.heatmap(correlation,vmin=None,\n",
        "    vmax=0.8,\n",
        "    cmap='rocket_r',\n",
        "    annot=True,\n",
        "    fmt='.1f',\n",
        "    linecolor='white',\n",
        "    cbar=True);"
      ],
      "metadata": {
        "colab": {
          "base_uri": "https://localhost:8080/",
          "height": 451
        },
        "id": "1KCk1fOt8KCz",
        "outputId": "a13f88bc-97bd-4543-c3ea-876609f6b5df"
      },
      "execution_count": 78,
      "outputs": [
        {
          "output_type": "display_data",
          "data": {
            "text/plain": [
              "<Figure size 700x500 with 2 Axes>"
            ],
            "image/png": "[encoded data removed]"
          },
          "metadata": {}
        }
      ]
    },
    {
      "cell_type": "markdown",
      "metadata": {
        "id": "1r3KSuPUKd1W"
      },
      "source": [
        "### Sampling"
      ]
    },
    {
      "cell_type": "code",
      "source": [
        "# Sample 0.5 % of the original dataset\n",
        "df_sub = EDA_df.sample(frac = 0.05, random_state = 42)\n",
        "df_sub.shape\n",
        "df_sub.to_csv('/content/drive/MyDrive/Colab notebooks/Crystal_CP_Segmentation/bank_transactions_sub.csv', index = False)"
      ],
      "metadata": {
        "id": "sxJdt4EGQWvJ"
      },
      "execution_count": null,
      "outputs": []
    }
  ],
  "metadata": {
    "colab": {
      "provenance": [],
      "include_colab_link": true
    },
    "kernelspec": {
      "display_name": "Python 3",
      "name": "python3"
    },
    "language_info": {
      "name": "python"
    }
  },
  "nbformat": 4,
  "nbformat_minor": 0
}