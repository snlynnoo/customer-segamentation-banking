{
  "nbformat": 4,
  "nbformat_minor": 0,
  "metadata": {
    "colab": {
      "provenance": [],
      "toc_visible": true,
      "mount_file_id": "1XXN0Gtkzk44jPAWBCml-X9m9VoJis0MG",
      "authorship_tag": "ABX9TyN/fvVeaOC7iSVJA6BrlutN",
      "include_colab_link": true
    },
    "kernelspec": {
      "name": "python3",
      "display_name": "Python 3"
    },
    "language_info": {
      "name": "python"
    }
  },
  "cells": [
    {
      "cell_type": "markdown",
      "metadata": {
        "id": "view-in-github",
        "colab_type": "text"
      },
      "source": [
        "<a href=\"https://colab.research.google.com/github/snlynnoo/customer-segamentation-banking/blob/main/customer_segmentation.ipynb\" target=\"_parent\"><img src=\"https://colab.research.google.com/assets/colab-badge.svg\" alt=\"Open In Colab\"/></a>"
      ]
    },
    {
      "cell_type": "markdown",
      "source": [
        "## Customer Segmentaion "
      ],
      "metadata": {
        "id": "BucReD2OKtCf"
      }
    },
    {
      "cell_type": "code",
      "execution_count": 1,
      "metadata": {
        "colab": {
          "base_uri": "https://localhost:8080/"
        },
        "id": "qH36F8HY8CPN",
        "outputId": "9a708a81-33ed-42c3-f718-7f7745bd235f"
      },
      "outputs": [
        {
          "output_type": "stream",
          "name": "stdout",
          "text": [
            "Mounted at /content/drive\n"
          ]
        }
      ],
      "source": [
        "# Mount google drive\n",
        "from google.colab import drive\n",
        "drive.mount('/content/drive')"
      ]
    },
    {
      "cell_type": "code",
      "source": [
        "# import libraries\n",
        "import pandas as pd\n",
        "import numpy as np\n",
        "import seaborn as sns\n",
        "import matplotlib.pyplot as plt\n",
        "import missingno as msno\n",
        "import sklearn\n",
        "import warnings\n",
        "\n",
        "# Set max row and col for pandas\n",
        "pd.set_option('display.max_columns', None)\n",
        "pd.set_option('display.max_row', 100)\n",
        "\n",
        "# Supress warnings\n",
        "warnings.filterwarnings('ignore')"
      ],
      "metadata": {
        "id": "Ms1D3F7DFaz4"
      },
      "execution_count": 41,
      "outputs": []
    },
    {
      "cell_type": "code",
      "source": [],
      "metadata": {
        "id": "W9iFuAKKOOkT"
      },
      "execution_count": null,
      "outputs": []
    },
    {
      "cell_type": "code",
      "source": [
        "# Set max row and col for pandas dataframe\n",
        "pd.set_option('display.max_columns', None)\n",
        "pd.set_option('display.max_rows', 200)\n",
        "\n",
        "# Supress warnings\n",
        "import warnings\n",
        "warnings.filterwarnings('ignore')"
      ],
      "metadata": {
        "id": "ggamA-cSOO2s"
      },
      "execution_count": null,
      "outputs": []
    },
    {
      "cell_type": "code",
      "source": [
        "# import original dataset\n",
        "# data = pd.read_csv('/content/drive/MyDrive/Colab notebooks/Crystal_CP_Segmentation/bank_transactions.csv')\n",
        "# data.shape"
      ],
      "metadata": {
        "colab": {
          "base_uri": "https://localhost:8080/"
        },
        "id": "E778SrkUE-U5",
        "outputId": "d40921c8-9f40-4177-fbc8-5649e71c83a9"
      },
      "execution_count": 15,
      "outputs": [
        {
          "output_type": "execute_result",
          "data": {
            "text/plain": [
              "(1048567, 9)"
            ]
          },
          "metadata": {},
          "execution_count": 15
        }
      ]
    },
    {
      "cell_type": "markdown",
      "source": [
        "### Sampling"
      ],
      "metadata": {
        "id": "1r3KSuPUKd1W"
      }
    },
    {
      "cell_type": "code",
      "source": [
        "# Sample 0.5 % of the original dataset\n",
        "# df_sub = data.sample(frac = 0.05, random_state = 42)\n",
        "# df_sub.shape\n",
        "# df_sub.to_csv('/content/drive/MyDrive/Colab notebooks/Crystal_CP_Segmentation/bank_transactions_sub.csv', index = False)"
      ],
      "metadata": {
        "id": "_Laj6mxYIgm7"
      },
      "execution_count": 12,
      "outputs": []
    },
    {
      "cell_type": "code",
      "source": [
        "# Load sampled dataset\n",
        "df = pd.read_csv('/content/drive/MyDrive/Colab notebooks/Crystal_CP_Segmentation/bank_transactions_sub.csv')\n",
        "df.shape"
      ],
      "metadata": {
        "colab": {
          "base_uri": "https://localhost:8080/"
        },
        "id": "krIVyLRuKBEX",
        "outputId": "f4a95873-45c5-4c64-d583-51516cac1762"
      },
      "execution_count": 14,
      "outputs": [
        {
          "output_type": "execute_result",
          "data": {
            "text/plain": [
              "(52428, 9)"
            ]
          },
          "metadata": {},
          "execution_count": 14
        }
      ]
    },
    {
      "cell_type": "markdown",
      "source": [
        "### Data Exploration"
      ],
      "metadata": {
        "id": "ywxobUctKpCw"
      }
    },
    {
      "cell_type": "code",
      "source": [
        "# Data info\n",
        "df.info()"
      ],
      "metadata": {
        "colab": {
          "base_uri": "https://localhost:8080/"
        },
        "id": "_Bw9aQfTKm4N",
        "outputId": "7a13d2f5-6d6c-47c4-b6cc-b4937ecbf99c"
      },
      "execution_count": 34,
      "outputs": [
        {
          "output_type": "stream",
          "name": "stdout",
          "text": [
            "<class 'pandas.core.frame.DataFrame'>\n",
            "RangeIndex: 52428 entries, 0 to 52427\n",
            "Data columns (total 9 columns):\n",
            " #   Column                   Non-Null Count  Dtype  \n",
            "---  ------                   --------------  -----  \n",
            " 0   TransactionID            52428 non-null  object \n",
            " 1   CustomerID               52428 non-null  object \n",
            " 2   CustomerDOB              52254 non-null  object \n",
            " 3   CustGender               52369 non-null  object \n",
            " 4   CustLocation             52424 non-null  object \n",
            " 5   CustAccountBalance       52316 non-null  float64\n",
            " 6   TransactionDate          52428 non-null  object \n",
            " 7   TransactionTime          52428 non-null  int64  \n",
            " 8   TransactionAmount (INR)  52428 non-null  float64\n",
            "dtypes: float64(2), int64(1), object(6)\n",
            "memory usage: 3.6+ MB\n"
          ]
        }
      ]
    },
    {
      "cell_type": "code",
      "source": [
        "# Custom Function to generate descriptive statics\n",
        "def describe_custom(df):\n",
        "    desc = df.describe()\n",
        "    skewness = df.skew()\n",
        "    median = df.median()\n",
        "    mode = df.mode()\n",
        "    desc.loc['skewness'] = skewness\n",
        "    desc.loc['median'] = median\n",
        "    desc.loc['mode'] = mode.iloc[0]\n",
        "    return desc"
      ],
      "metadata": {
        "id": "WmTaPR8fNrAv"
      },
      "execution_count": 53,
      "outputs": []
    },
    {
      "cell_type": "code",
      "source": [
        "describe_custom(df).T"
      ],
      "metadata": {
        "colab": {
          "base_uri": "https://localhost:8080/",
          "height": 142
        },
        "id": "UL-K8PDWN4QV",
        "outputId": "b9d5bd01-d5f8-4a30-8942-b248311b9574"
      },
      "execution_count": 52,
      "outputs": [
        {
          "output_type": "execute_result",
          "data": {
            "text/plain": [
              "                           count           mean            std  min  \\\n",
              "CustAccountBalance       52316.0  109653.375349  866119.916870  0.0   \n",
              "TransactionTime          52428.0  157252.952220   51144.439513  1.0   \n",
              "TransactionAmount (INR)  52428.0    1574.259345    5911.173406  0.0   \n",
              "\n",
              "                                 25%         50%          75%           max  \\\n",
              "CustAccountBalance         4808.8475   16912.415   57146.3775  1.150355e+08   \n",
              "TransactionTime          124140.0000  164427.500  200041.0000  2.359490e+05   \n",
              "TransactionAmount (INR)     165.0000     459.520    1195.0000  4.290067e+05   \n",
              "\n",
              "                          skewness      median      mode  \n",
              "CustAccountBalance       82.346778   16912.415       0.0  \n",
              "TransactionTime          -0.841754  164427.500  200329.0  \n",
              "TransactionAmount (INR)  20.236341     459.520     100.0  "
            ],
            "text/html": [
              "\n",
              "  <div id=\"df-bc776486-1050-4911-96c3-0706f5c48079\">\n",
              "    <div class=\"colab-df-container\">\n",
              "      <div>\n",
              "<style scoped>\n",
              "    .dataframe tbody tr th:only-of-type {\n",
              "        vertical-align: middle;\n",
              "    }\n",
              "\n",
              "    .dataframe tbody tr th {\n",
              "        vertical-align: top;\n",
              "    }\n",
              "\n",
              "    .dataframe thead th {\n",
              "        text-align: right;\n",
              "    }\n",
              "</style>\n",
              "<table border=\"1\" class=\"dataframe\">\n",
              "  <thead>\n",
              "    <tr style=\"text-align: right;\">\n",
              "      <th></th>\n",
              "      <th>count</th>\n",
              "      <th>mean</th>\n",
              "      <th>std</th>\n",
              "      <th>min</th>\n",
              "      <th>25%</th>\n",
              "      <th>50%</th>\n",
              "      <th>75%</th>\n",
              "      <th>max</th>\n",
              "      <th>skewness</th>\n",
              "      <th>median</th>\n",
              "      <th>mode</th>\n",
              "    </tr>\n",
              "  </thead>\n",
              "  <tbody>\n",
              "    <tr>\n",
              "      <th>CustAccountBalance</th>\n",
              "      <td>52316.0</td>\n",
              "      <td>109653.375349</td>\n",
              "      <td>866119.916870</td>\n",
              "      <td>0.0</td>\n",
              "      <td>4808.8475</td>\n",
              "      <td>16912.415</td>\n",
              "      <td>57146.3775</td>\n",
              "      <td>1.150355e+08</td>\n",
              "      <td>82.346778</td>\n",
              "      <td>16912.415</td>\n",
              "      <td>0.0</td>\n",
              "    </tr>\n",
              "    <tr>\n",
              "      <th>TransactionTime</th>\n",
              "      <td>52428.0</td>\n",
              "      <td>157252.952220</td>\n",
              "      <td>51144.439513</td>\n",
              "      <td>1.0</td>\n",
              "      <td>124140.0000</td>\n",
              "      <td>164427.500</td>\n",
              "      <td>200041.0000</td>\n",
              "      <td>2.359490e+05</td>\n",
              "      <td>-0.841754</td>\n",
              "      <td>164427.500</td>\n",
              "      <td>200329.0</td>\n",
              "    </tr>\n",
              "    <tr>\n",
              "      <th>TransactionAmount (INR)</th>\n",
              "      <td>52428.0</td>\n",
              "      <td>1574.259345</td>\n",
              "      <td>5911.173406</td>\n",
              "      <td>0.0</td>\n",
              "      <td>165.0000</td>\n",
              "      <td>459.520</td>\n",
              "      <td>1195.0000</td>\n",
              "      <td>4.290067e+05</td>\n",
              "      <td>20.236341</td>\n",
              "      <td>459.520</td>\n",
              "      <td>100.0</td>\n",
              "    </tr>\n",
              "  </tbody>\n",
              "</table>\n",
              "</div>\n",
              "      <button class=\"colab-df-convert\" onclick=\"convertToInteractive('df-bc776486-1050-4911-96c3-0706f5c48079')\"\n",
              "              title=\"Convert this dataframe to an interactive table.\"\n",
              "              style=\"display:none;\">\n",
              "        \n",
              "  <svg xmlns=\"http://www.w3.org/2000/svg\" height=\"24px\"viewBox=\"0 0 24 24\"\n",
              "       width=\"24px\">\n",
              "    <path d=\"M0 0h24v24H0V0z\" fill=\"none\"/>\n",
              "    <path d=\"M18.56 5.44l.94 2.06.94-2.06 2.06-.94-2.06-.94-.94-2.06-.94 2.06-2.06.94zm-11 1L8.5 8.5l.94-2.06 2.06-.94-2.06-.94L8.5 2.5l-.94 2.06-2.06.94zm10 10l.94 2.06.94-2.06 2.06-.94-2.06-.94-.94-2.06-.94 2.06-2.06.94z\"/><path d=\"M17.41 7.96l-1.37-1.37c-.4-.4-.92-.59-1.43-.59-.52 0-1.04.2-1.43.59L10.3 9.45l-7.72 7.72c-.78.78-.78 2.05 0 2.83L4 21.41c.39.39.9.59 1.41.59.51 0 1.02-.2 1.41-.59l7.78-7.78 2.81-2.81c.8-.78.8-2.07 0-2.86zM5.41 20L4 18.59l7.72-7.72 1.47 1.35L5.41 20z\"/>\n",
              "  </svg>\n",
              "      </button>\n",
              "      \n",
              "  <style>\n",
              "    .colab-df-container {\n",
              "      display:flex;\n",
              "      flex-wrap:wrap;\n",
              "      gap: 12px;\n",
              "    }\n",
              "\n",
              "    .colab-df-convert {\n",
              "      background-color: #E8F0FE;\n",
              "      border: none;\n",
              "      border-radius: 50%;\n",
              "      cursor: pointer;\n",
              "      display: none;\n",
              "      fill: #1967D2;\n",
              "      height: 32px;\n",
              "      padding: 0 0 0 0;\n",
              "      width: 32px;\n",
              "    }\n",
              "\n",
              "    .colab-df-convert:hover {\n",
              "      background-color: #E2EBFA;\n",
              "      box-shadow: 0px 1px 2px rgba(60, 64, 67, 0.3), 0px 1px 3px 1px rgba(60, 64, 67, 0.15);\n",
              "      fill: #174EA6;\n",
              "    }\n",
              "\n",
              "    [theme=dark] .colab-df-convert {\n",
              "      background-color: #3B4455;\n",
              "      fill: #D2E3FC;\n",
              "    }\n",
              "\n",
              "    [theme=dark] .colab-df-convert:hover {\n",
              "      background-color: #434B5C;\n",
              "      box-shadow: 0px 1px 3px 1px rgba(0, 0, 0, 0.15);\n",
              "      filter: drop-shadow(0px 1px 2px rgba(0, 0, 0, 0.3));\n",
              "      fill: #FFFFFF;\n",
              "    }\n",
              "  </style>\n",
              "\n",
              "      <script>\n",
              "        const buttonEl =\n",
              "          document.querySelector('#df-bc776486-1050-4911-96c3-0706f5c48079 button.colab-df-convert');\n",
              "        buttonEl.style.display =\n",
              "          google.colab.kernel.accessAllowed ? 'block' : 'none';\n",
              "\n",
              "        async function convertToInteractive(key) {\n",
              "          const element = document.querySelector('#df-bc776486-1050-4911-96c3-0706f5c48079');\n",
              "          const dataTable =\n",
              "            await google.colab.kernel.invokeFunction('convertToInteractive',\n",
              "                                                     [key], {});\n",
              "          if (!dataTable) return;\n",
              "\n",
              "          const docLinkHtml = 'Like what you see? Visit the ' +\n",
              "            '<a target=\"_blank\" href=https://colab.research.google.com/notebooks/data_table.ipynb>data table notebook</a>'\n",
              "            + ' to learn more about interactive tables.';\n",
              "          element.innerHTML = '';\n",
              "          dataTable['output_type'] = 'display_data';\n",
              "          await google.colab.output.renderOutput(dataTable, element);\n",
              "          const docLink = document.createElement('div');\n",
              "          docLink.innerHTML = docLinkHtml;\n",
              "          element.appendChild(docLink);\n",
              "        }\n",
              "      </script>\n",
              "    </div>\n",
              "  </div>\n",
              "  "
            ]
          },
          "metadata": {},
          "execution_count": 52
        }
      ]
    },
    {
      "cell_type": "code",
      "source": [
        "# Check missing values\n",
        "df.isnull().sum()"
      ],
      "metadata": {
        "colab": {
          "base_uri": "https://localhost:8080/"
        },
        "id": "DlLLsyVKL2VL",
        "outputId": "c2b278da-3e68-47e5-a9b3-174f1d52a537"
      },
      "execution_count": 31,
      "outputs": [
        {
          "output_type": "execute_result",
          "data": {
            "text/plain": [
              "TransactionID                0\n",
              "CustomerID                   0\n",
              "CustomerDOB                174\n",
              "CustGender                  59\n",
              "CustLocation                 4\n",
              "CustAccountBalance         112\n",
              "TransactionDate              0\n",
              "TransactionTime              0\n",
              "TransactionAmount (INR)      0\n",
              "dtype: int64"
            ]
          },
          "metadata": {},
          "execution_count": 31
        }
      ]
    },
    {
      "cell_type": "code",
      "source": [
        "# Plot non-missing value %\n",
        "msno.bar(df, color = \"lightblue\", figsize = (6,3), fontsize = 8)\n",
        "plt.title(\"The amount of Non-missing values %\", fontsize = 12)\n",
        "plt.show()"
      ],
      "metadata": {
        "colab": {
          "base_uri": "https://localhost:8080/",
          "height": 447
        },
        "id": "45FXa4WXLU9W",
        "outputId": "e307dc42-255b-46a1-913f-eeaf0af8e122"
      },
      "execution_count": 30,
      "outputs": [
        {
          "output_type": "display_data",
          "data": {
            "text/plain": [
              "<Figure size 600x300 with 3 Axes>"
            ],
            "image/png": "[encoded data removed]"
          },
          "metadata": {}
        }
      ]
    },
    {
      "cell_type": "code",
      "source": [
        "df[df.duplicated() == True ].count()"
      ],
      "metadata": {
        "colab": {
          "base_uri": "https://localhost:8080/"
        },
        "id": "1ljc2z2jNMda",
        "outputId": "60f6707f-b511-4954-86f6-97acd4bd708b"
      },
      "execution_count": 37,
      "outputs": [
        {
          "output_type": "execute_result",
          "data": {
            "text/plain": [
              "TransactionID              0\n",
              "CustomerID                 0\n",
              "CustomerDOB                0\n",
              "CustGender                 0\n",
              "CustLocation               0\n",
              "CustAccountBalance         0\n",
              "TransactionDate            0\n",
              "TransactionTime            0\n",
              "TransactionAmount (INR)    0\n",
              "dtype: int64"
            ]
          },
          "metadata": {},
          "execution_count": 37
        }
      ]
    }
  ]
}